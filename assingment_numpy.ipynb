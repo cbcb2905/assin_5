{
  "nbformat": 4,
  "nbformat_minor": 0,
  "metadata": {
    "colab": {
      "provenance": []
    },
    "kernelspec": {
      "name": "python3",
      "display_name": "Python 3"
    },
    "language_info": {
      "name": "python"
    }
  },
  "cells": [
    {
      "cell_type": "code",
      "source": [
        "#Q1 - Explain the purpose and advantages of NumPy in scientific computing and data analysis. How does it enhance Python's capabilities for numerical operations?"
      ],
      "metadata": {
        "id": "KU4jRt87r8Jb"
      },
      "execution_count": null,
      "outputs": []
    },
    {
      "cell_type": "markdown",
      "source": [
        "NumPy, short for \"Numerical Python,\" is a powerful library used in scientific computing and data analysis. It extends Python’s capabilities for handling large amounts of numerical data and performing complex mathematical operations efficiently. Here's how NumPy enhances Python and its key advantages:\n",
        "\n",
        "Purpose of NumPy:\n",
        "Efficient handling of large datasets: NumPy provides support for multi-dimensional arrays (often referred to as ndarrays) that allow for efficient storage and manipulation of large datasets, which is critical in scientific computing.\n",
        "Mathematical functions and operations: It includes a large collection of mathematical functions that operate on these arrays, such as linear algebra operations, random number generation, Fourier transforms, and more.\n",
        "Performance optimization: NumPy is designed to perform operations on large arrays of data much faster than traditional Python lists by using highly optimized C and Fortran code under the hood.\n",
        "Advantages of NumPy in Scientific Computing and Data Analysis:\n",
        "Fast and Memory Efficient: NumPy arrays are more efficient than Python lists in terms of both speed and memory usage. They are stored in contiguous memory locations, which allows for rapid computation, while Python lists are more general-purpose but slower due to overhead and flexibility.\n",
        "\n",
        "Vectorization: NumPy allows vectorized operations, meaning you can apply operations across entire arrays or matrices without writing explicit loops. This enhances performance, simplifies code, and is more in line with mathematical notation."
      ],
      "metadata": {
        "id": "h58J3x1urmnz"
      }
    },
    {
      "cell_type": "code",
      "source": [
        "#example of vectorization\n",
        "import numpy as np\n",
        "arr = np.array([1, 2, 3, 4])\n",
        "result = arr * 2  # Each element is multiplied by 2\n"
      ],
      "metadata": {
        "id": "qU8zf9FTrmXk"
      },
      "execution_count": 1,
      "outputs": []
    },
    {
      "cell_type": "markdown",
      "source": [
        "Broadcasting: NumPy allows broadcasting, which is the ability to perform arithmetic operations on arrays of different shapes in a memory-efficient way. For example, you can add a scalar to a multi-dimensional array or perform operations between arrays of different sizes without copying data unnecessarily."
      ],
      "metadata": {
        "id": "NOM6atu8r2Ne"
      }
    },
    {
      "cell_type": "code",
      "execution_count": 2,
      "metadata": {
        "id": "1XhI3lATrSyW"
      },
      "outputs": [],
      "source": [
        "#Example of broadcasting:\n",
        "\n",
        "arr1 = np.array([1, 2, 3])\n",
        "arr2 = np.array([[1], [2], [3]])\n",
        "result = arr1 + arr2"
      ]
    },
    {
      "cell_type": "markdown",
      "source": [
        "How NumPy Enhances Python’s Numerical Capabilities:\n",
        "Efficiency in Numerical Operations: Python's built-in data structures (e.g., lists) are general-purpose and not optimized for numerical computation. NumPy, however, provides data structures (like ndarrays) that are specialized for numerical operations, offering significant speed improvements (often by several orders of magnitude).\n",
        "\n",
        "Ease of Use with Complex Operations: Without NumPy, numerical operations, especially with matrices or large datasets, would require custom, slower implementations. With NumPy, operations like matrix multiplications, element-wise arithmetic, or complex transformations are easily executed with simple syntax.\n",
        "\n",
        "Seamless Parallelism and Caching: NumPy efficiently leverages low-level optimizations, including parallelism and hardware-specific instructions (like SIMD), allowing numerical operations to be highly optimized without the user needing to manage it explicitly.\n",
        "\n",
        "Overall, NumPy significantly boosts Python's capabilities in scientific computing and data analysis by providing an efficient and user-friendly environment for handling numerical data and performing mathematical operations at scale."
      ],
      "metadata": {
        "id": "JyBq7ehosFnC"
      }
    },
    {
      "cell_type": "code",
      "source": [
        "#Q2 - Compare and contrast np.mean() and np.average() functions in NumPy. When would you use one over the other?"
      ],
      "metadata": {
        "id": "0YxLGOV9r6L7"
      },
      "execution_count": null,
      "outputs": []
    },
    {
      "cell_type": "markdown",
      "source": [
        "Both np.mean() and np.average() are functions in NumPy that compute the average of data, but they have distinct differences in terms of behavior, especially regarding weighting. Here’s a detailed comparison and when to use each function:\n",
        "\n",
        "1. Definition and Basic Use:\n",
        "np.mean():\n",
        "\n",
        "Definition: Computes the arithmetic mean (average) of the elements along a specified axis or for the entire array.\n",
        "\n",
        "Basic Usage: This function gives the simple mean of the data without considering any weights.\n",
        "arr: Input array.\n",
        "axis: Axis along which the means are computed. If not specified, the mean of the flattened array is returned.\n",
        "dtype: Specifies the data type to use during computation (optional)"
      ],
      "metadata": {
        "id": "PFYffMKPsPlq"
      }
    },
    {
      "cell_type": "code",
      "source": [
        "\n",
        "#example\n",
        "arr = np.array([1, 2, 3, 4, 5])\n",
        "mean_value = np.mean(arr)  # Output: 3.0\n"
      ],
      "metadata": {
        "id": "EnmjTkm8sQRq"
      },
      "execution_count": 3,
      "outputs": []
    },
    {
      "cell_type": "markdown",
      "source": [
        "np.average():\n",
        "\n",
        "Definition: Computes the weighted average of the elements, where each element can be weighted differently. If no weights are provided, it acts like np.mean().\n",
        "\n",
        "Basic Usage: This function allows for weighted averages, which means you can specify the weight of each element.\n",
        "weights: This is the key difference. You can pass an array of the same shape as arr or broadcastable to its shape, where each weight indicates the contribution of the corresponding element to the average.\n",
        "returned: If True, it returns a tuple where the first element is the weighted average and the second element is the sum of weights."
      ],
      "metadata": {
        "id": "enFJzsk8sbG7"
      }
    },
    {
      "cell_type": "code",
      "source": [
        "#Example (without weights):\n",
        "arr = np.array([1, 2, 3, 4, 5])\n",
        "avg_value = np.average(arr)  # Output: 3.0 (same as np.mean when weights=None)\n",
        "#Example (with weights):\n",
        "arr = np.array([1, 2, 3, 4, 5])\n",
        "weights = np.array([0.1, 0.2, 0.3, 0.4, 0.5])\n",
        "weighted_avg = np.average(arr, weights=weights)  # Output: 3.6667"
      ],
      "metadata": {
        "id": "01l7QTA7skob"
      },
      "execution_count": 4,
      "outputs": []
    },
    {
      "cell_type": "markdown",
      "source": [
        "4. Key Difference in Weighted Average:\n",
        "The major distinction is that np.average() can handle weights, making it more versatile when dealing with real-world data where not all values are equally important, while np.mean() is strictly for computing the arithmetic mean without considering the importance of individual values."
      ],
      "metadata": {
        "id": "UCfEmOLest_L"
      }
    },
    {
      "cell_type": "code",
      "source": [
        "#Example Highlighting Difference:\n",
        "arr = np.array([1, 2, 3, 4, 5])\n",
        "\n",
        "# Mean of the array (equal contribution from all elements)\n",
        "mean_value = np.mean(arr)  # Output: 3.0\n",
        "\n",
        "# Weighted average where last element has zero contribution\n",
        "weights = np.array([1, 1, 1, 1, 0])\n",
        "weighted_avg = np.average(arr, weights=weights)  # Output: 2.5\n"
      ],
      "metadata": {
        "id": "FQTH-IYIstfm"
      },
      "execution_count": null,
      "outputs": []
    },
    {
      "cell_type": "markdown",
      "source": [
        "Conclusion:\n",
        "Use np.mean() for simple average calculations when all elements are equally important.\n",
        "Use np.average() when you need to compute a weighted average, where some elements have more influence than others."
      ],
      "metadata": {
        "id": "xgo8qV9Bsz-M"
      }
    },
    {
      "cell_type": "code",
      "source": [
        "#Q3 - Describe the methods for reversing a NumPy array along different axes. Provide examples for 1D and 2D arrays."
      ],
      "metadata": {
        "id": "sZtfBVfKsYn8"
      },
      "execution_count": null,
      "outputs": []
    },
    {
      "cell_type": "markdown",
      "source": [
        "To reverse a NumPy array along different axes, you can use slicing techniques. Let's explore this for both 1D and 2D arrays:\n",
        "\n",
        "1D Array\n",
        "A 1D NumPy array is essentially a simple list of elements. To reverse this array, you can use slicing with the syntax [::-1], which means \"slice from start to end with a step of -1.\"\n",
        "2D Array\n",
        "For 2D arrays, you can reverse along different axes using slicing as well. A 2D array can be thought of as a matrix where you can reverse:\n",
        "\n",
        "Along rows (axis 0)\n",
        "Along columns (axis 1)"
      ],
      "metadata": {
        "id": "gadvLWTetCxb"
      }
    },
    {
      "cell_type": "code",
      "source": [
        "#example 1D\n",
        "import numpy as np\n",
        "\n",
        "# Create a 1D array\n",
        "arr_1d = np.array([1, 2, 3, 4, 5])\n",
        "\n",
        "# Reverse the 1D array\n",
        "reversed_1d = arr_1d[::-1]\n",
        "print(reversed_1d)\n",
        "\n",
        "#example 2D\n",
        "# Create a 2D array\n",
        "arr_2d = np.array([[1, 2, 3],\n",
        "                   [4, 5, 6],\n",
        "                   [7, 8, 9]])\n",
        "\n",
        "# Reverse the 2D array along rows (axis 0)\n",
        "reversed_rows = arr_2d[::-1, :]\n",
        "print(\"Reversed along rows (axis 0):\\n\", reversed_rows)\n",
        "\n",
        "# Reverse the 2D array along columns (axis 1)\n",
        "reversed_columns = arr_2d[:, ::-1]\n",
        "print(\"\\nReversed along columns (axis 1):\\n\", reversed_columns)\n",
        "\n",
        "# Reverse along both axes\n",
        "reversed_both_axes = arr_2d[::-1, ::-1]\n",
        "print(\"\\nReversed along both axes:\\n\", reversed_both_axes)\n"
      ],
      "metadata": {
        "colab": {
          "base_uri": "https://localhost:8080/"
        },
        "id": "6Q0fHZ4ttMsq",
        "outputId": "87640a77-d9ac-4329-84fe-f2f1a3f4e70c"
      },
      "execution_count": 6,
      "outputs": [
        {
          "output_type": "stream",
          "name": "stdout",
          "text": [
            "[5 4 3 2 1]\n",
            "Reversed along rows (axis 0):\n",
            " [[7 8 9]\n",
            " [4 5 6]\n",
            " [1 2 3]]\n",
            "\n",
            "Reversed along columns (axis 1):\n",
            " [[3 2 1]\n",
            " [6 5 4]\n",
            " [9 8 7]]\n",
            "\n",
            "Reversed along both axes:\n",
            " [[9 8 7]\n",
            " [6 5 4]\n",
            " [3 2 1]]\n"
          ]
        }
      ]
    },
    {
      "cell_type": "code",
      "source": [
        "#Q4 -  How can you determine the data type of elements in a NumPy array? Discuss the importance of data types  in memory management and performance."
      ],
      "metadata": {
        "id": "qcyvWDqGtOPN"
      },
      "execution_count": null,
      "outputs": []
    },
    {
      "cell_type": "markdown",
      "source": [
        "To determine the data type of elements in a NumPy array, you can use the dtype attribute."
      ],
      "metadata": {
        "id": "W6XQ_HRithgi"
      }
    },
    {
      "cell_type": "code",
      "source": [
        "#Here’s an example:\n",
        "import numpy as np\n",
        "\n",
        "arr = np.array([1, 2, 3])\n",
        "print(arr.dtype)\n"
      ],
      "metadata": {
        "colab": {
          "base_uri": "https://localhost:8080/"
        },
        "id": "m7cmdH-8tpEG",
        "outputId": "7b63abb8-1af1-46df-d235-35fe6387f884"
      },
      "execution_count": 7,
      "outputs": [
        {
          "output_type": "stream",
          "name": "stdout",
          "text": [
            "int64\n"
          ]
        }
      ]
    },
    {
      "cell_type": "markdown",
      "source": [
        "This will output the data type of the array elements, such as int32, float64, etc.\n",
        "\n",
        "Importance of Data Types in Memory Management and Performance\n",
        "Memory Efficiency:\n",
        "\n",
        "NumPy arrays store data more compactly compared to native Python data structures like lists. The data type defines how much memory each element consumes. For example, an int32 consumes 4 bytes per element, while an int64 consumes 8 bytes. Choosing the appropriate data type ensures efficient memory usage.\n",
        "If you are working with a large dataset, using a more compact data type can save significant amounts of memory. For example, using uint8 (1 byte) instead of int64 (8 bytes) for values ranging between 0 and 255 drastically reduces memory consumption.\n",
        "Performance:\n",
        "\n",
        "NumPy operations are implemented in C and are highly optimized for speed. However, the data type affects performance. Operations on smaller data types (e.g., int16) are typically faster than on larger ones (e.g., int64), since fewer bytes need to be processed.\n",
        "Vectorized operations in NumPy, such as element-wise addition, take advantage of the fixed-size elements. This uniformity allows the CPU to process data more efficiently compared to Python lists, where elements can have varying types and sizes.\n",
        "Precision Control:\n",
        "\n",
        "Data types also allow you to control precision. For example, if you’re working with floating-point numbers, float32 uses less memory than float64 but with reduced precision. This can be important in scenarios like scientific computing, where precision is critical, or image processing, where performance may matter more.\n",
        "Compatibility:\n",
        "\n",
        "Specifying the right data type can ensure compatibility when interfacing with external libraries or data formats (e.g., binary files, databases) that expect data in a particular format. This avoids potential errors and reduces the need for conversions.\n",
        "By carefully selecting the data type, you can balance memory usage, performance, and precision, depending on the needs of your application."
      ],
      "metadata": {
        "id": "DUVAnRNVttEK"
      }
    },
    {
      "cell_type": "code",
      "source": [
        "#Q5 - Define ndarrays in NumPy and explain their key features. How do they differ from standard Python lists?"
      ],
      "metadata": {
        "id": "V2q_I-5etsXc"
      },
      "execution_count": null,
      "outputs": []
    },
    {
      "cell_type": "markdown",
      "source": [
        "In NumPy, an ndarray (n-dimensional array) is the core data structure that represents a grid of values, all of the same type, and is indexed by a tuple of non-negative integers. The number of dimensions is defined by the array's shape, a tuple representing the size of the array along each dimension.\n",
        "\n",
        "Key Features of ndarray:\n",
        "Homogeneous data types: Every element in an ndarray must have the same data type (e.g., integers, floats, etc.), which is specified at the time of array creation. This leads to efficient memory usage.\n",
        "\n",
        "Multidimensional: ndarray can have any number of dimensions. The number of dimensions is determined by the array's shape. A 1D array is a vector, a 2D array is a matrix, and higher dimensions are often used in scientific computing.\n",
        "\n",
        "Fast and efficient operations: NumPy provides optimized implementations of mathematical operations on arrays. These operations are typically performed in C or Fortran under the hood, making them much faster than operations on standard Python lists.\n",
        "\n",
        "Element-wise operations: Arithmetic operations, like addition, subtraction, and multiplication, are performed element-wise. This allows for vectorized operations that eliminate the need for loops in many cases.\n",
        "\n",
        "Memory layout and slicing: Arrays are stored in contiguous blocks of memory, making them cache-friendly and enhancing performance. You can slice and access subarrays efficiently without copying data.\n",
        "\n",
        "Broadcasting: NumPy arrays support broadcasting, which allows operations between arrays of different shapes in a way that aligns smaller arrays to larger ones.\n",
        "\n",
        "Differences Between ndarray and Python Lists:\n",
        "Data Type:\n",
        "\n",
        "In Python lists, elements can have different data types.\n",
        "In ndarray, all elements must have the same data type, making memory and operations more efficient.\n",
        "Memory Efficiency:\n",
        "\n",
        "Python lists store references to the actual data, which leads to greater memory overhead.\n",
        "ndarray stores elements in a contiguous block of memory, resulting in reduced overhead and faster access times.\n",
        "Performance:\n",
        "\n",
        "Lists are slower for mathematical operations because each operation typically involves Python loops.\n",
        "ndarray is faster because it performs element-wise operations in compiled C code, optimizing performance.\n",
        "Dimensionality:\n",
        "\n",
        "Python lists are inherently one-dimensional, but can be nested to represent multi-dimensional structures, though access becomes more cumbersome.\n",
        "ndarray natively supports n-dimensional arrays, making it straightforward to manipulate and access higher-dimensional data.\n",
        "Built-in Mathematical Functions:\n",
        "\n",
        "While Python lists require explicit loops or the use of external libraries for element-wise mathematical operations, NumPy provides many mathematical functions (e.g., sum, mean, dot) that work seamlessly on arrays."
      ],
      "metadata": {
        "id": "xy8KGPWct_Lb"
      }
    },
    {
      "cell_type": "code",
      "source": [
        "#example\n",
        "import numpy as np\n",
        "\n",
        "# Create a 1D array (vector)\n",
        "arr_1d = np.array([1, 2, 3])\n",
        "\n",
        "# Create a 2D array (matrix)\n",
        "arr_2d = np.array([[4, 5, 6], [7, 8, 9]])\n",
        "\n",
        "# Example of element-wise addition\n",
        "result_addition = arr_1d + 2  # Adds 2 to each element in arr_1d\n",
        "print(\"Element-wise addition result:\")\n",
        "print(result_addition)\n",
        "\n",
        "# Example of broadcasting\n",
        "result_broadcasting = arr_2d + arr_1d  # Broadcasting 1D array to match 2D shape\n",
        "print(\"\\nBroadcasting result:\")\n",
        "print(result_broadcasting)\n"
      ],
      "metadata": {
        "colab": {
          "base_uri": "https://localhost:8080/"
        },
        "id": "KgWWg9m9t_07",
        "outputId": "29525654-870b-4bce-add9-99d0f7595698"
      },
      "execution_count": 13,
      "outputs": [
        {
          "output_type": "stream",
          "name": "stdout",
          "text": [
            "Element-wise addition result:\n",
            "[3 4 5]\n",
            "\n",
            "Broadcasting result:\n",
            "[[ 5  7  9]\n",
            " [ 8 10 12]]\n"
          ]
        }
      ]
    },
    {
      "cell_type": "code",
      "source": [
        "#Q6 - Analyze the performance benefits of NumPy arrays over Python lists for large-scale numerical operations"
      ],
      "metadata": {
        "id": "TC5FgZtluCBD"
      },
      "execution_count": 12,
      "outputs": []
    },
    {
      "cell_type": "markdown",
      "source": [
        "NumPy arrays offer significant performance benefits over Python lists for large-scale numerical operations due to several key factors:\n",
        "\n",
        "1. Memory Efficiency\n",
        "Homogeneous Data Types: NumPy arrays store elements of the same data type, which allows for more efficient memory usage compared to Python lists that can hold elements of different types.\n",
        "Fixed Size: Unlike Python lists that dynamically resize, NumPy arrays have a fixed size, meaning less memory overhead due to the absence of pointers and dynamic resizing mechanisms. This leads to faster memory allocation.\n",
        "2. Vectorized Operations\n",
        "Element-wise Operations: NumPy arrays allow vectorized operations, where operations are performed on entire arrays at once without the need for explicit loops. This takes advantage of low-level optimizations and results in much faster computations than using Python's for-loops on lists.\n",
        "3. Efficient Broadcasting\n",
        "Automatic Expansion: NumPy can automatically \"broadcast\" smaller arrays to match the dimensions of larger arrays when performing operations, avoiding the need to manually replicate data, which is more cumbersome and slower with Python lists.\n",
        "4. Optimized C and Fortran Libraries\n",
        "Low-level Implementations: NumPy is implemented in C and Fortran, making it much faster for numerical operations. Python lists rely on high-level Python operations, which are inherently slower than compiled code. NumPy’s optimized backend allows for more efficient execution of mathematical computations.\n",
        "5. Contiguous Memory Allocation\n",
        "Better Cache Utilization: NumPy arrays are stored in contiguous blocks of memory, leading to better cache performance. Python lists are arrays of pointers, meaning data can be scattered in memory, reducing cache efficiency.\n",
        "6. Parallelization\n",
        "Multi-threading and SIMD: NumPy can take advantage of parallelism (e.g., via multi-threading or SIMD instructions) to speed up operations, especially for large datasets. This is not easily achievable with Python lists.\n",
        "7. Built-in Mathematical Functions\n",
        "Highly Optimized Functions: NumPy provides many built-in mathematical functions (e.g., sum, mean, dot, etc.) that are optimized for performance. These functions are faster than using equivalent operations on Python lists.\n",
        "8. Type-Specific Operations\n",
        "Avoiding Type Checking Overhead: Since NumPy arrays enforce a single data type, it avoids the overhead of type checking that Python lists incur during runtim\n"
      ],
      "metadata": {
        "id": "SkfTDHyguZzT"
      }
    },
    {
      "cell_type": "code",
      "source": [
        "#Performance Comparison Example\n",
        "\n",
        "import numpy as np\n",
        "import time\n",
        "\n",
        "# Large-scale operation with NumPy\n",
        "size = 10**7\n",
        "array_np = np.arange(size)\n",
        "\n",
        "start_time = time.time()\n",
        "array_np = array_np * 2\n",
        "print(\"NumPy operation time:\", time.time() - start_time)\n",
        "\n",
        "# Large-scale operation with Python list\n",
        "array_py = list(range(size))\n",
        "\n",
        "start_time = time.time()\n",
        "array_py = [x * 2 for x in array_py]\n",
        "print(\"Python list operation time:\", time.time() - start_time)\n"
      ],
      "metadata": {
        "colab": {
          "base_uri": "https://localhost:8080/"
        },
        "id": "EVMDzwM4uZTE",
        "outputId": "3328a14e-da01-44d5-be6e-8e875e7387ed"
      },
      "execution_count": 14,
      "outputs": [
        {
          "output_type": "stream",
          "name": "stdout",
          "text": [
            "NumPy operation time: 0.12820196151733398\n",
            "Python list operation time: 1.3369073867797852\n"
          ]
        }
      ]
    },
    {
      "cell_type": "code",
      "source": [
        "#Q7 - Compare vstack() and hstack() functions in NumPy. Provide examples demonstrating their usage and  output"
      ],
      "metadata": {
        "id": "whZVf11AvJus"
      },
      "execution_count": 15,
      "outputs": []
    },
    {
      "cell_type": "markdown",
      "source": [
        "\n",
        "In NumPy, vstack() and hstack() are functions used to stack arrays either vertically or horizontally.\n",
        "\n",
        "1. vstack()\n",
        "Functionality: Stacks arrays vertically (row-wise). It combines arrays along the first axis (axis 0), stacking them one on top of the other.\n",
        "Shape Compatibility: Arrays must have the same number of columns (same second dimension)."
      ],
      "metadata": {
        "id": "p01J5EGKvUGE"
      }
    },
    {
      "cell_type": "code",
      "source": [
        "#Example\n",
        "import numpy as np\n",
        "\n",
        "arr1 = np.array([[1, 2, 3], [4, 5, 6]])\n",
        "arr2 = np.array([[7, 8, 9]])\n",
        "\n",
        "# Vertical stacking\n",
        "result_vstack = np.vstack((arr1, arr2))\n",
        "print(result_vstack)\n"
      ],
      "metadata": {
        "colab": {
          "base_uri": "https://localhost:8080/"
        },
        "id": "QnaHDgq0vTnM",
        "outputId": "8c2426c9-6d6c-4a41-a0c2-afd0176e1198"
      },
      "execution_count": 16,
      "outputs": [
        {
          "output_type": "stream",
          "name": "stdout",
          "text": [
            "[[1 2 3]\n",
            " [4 5 6]\n",
            " [7 8 9]]\n"
          ]
        }
      ]
    },
    {
      "cell_type": "markdown",
      "source": [
        "2. hstack()\n",
        "Functionality: Stacks arrays horizontally (column-wise). It combines arrays along the second axis (axis 1), placing them side by side.\n",
        "Shape Compatibility: Arrays must have the same number of rows (same first dimension)."
      ],
      "metadata": {
        "id": "Cmg02GjwvdFm"
      }
    },
    {
      "cell_type": "code",
      "source": [
        "#Example\n",
        "arr3 = np.array([[10], [11]])\n",
        "\n",
        "# Horizontal stacking\n",
        "result_hstack = np.hstack((arr1, arr3))\n",
        "print(result_hstack)\n"
      ],
      "metadata": {
        "colab": {
          "base_uri": "https://localhost:8080/"
        },
        "id": "e2lNJ0_YvcXf",
        "outputId": "26a8c106-edc2-4929-9e3c-f7f16ce0d301"
      },
      "execution_count": 17,
      "outputs": [
        {
          "output_type": "stream",
          "name": "stdout",
          "text": [
            "[[ 1  2  3 10]\n",
            " [ 4  5  6 11]]\n"
          ]
        }
      ]
    },
    {
      "cell_type": "markdown",
      "source": [
        "Summary of Differences:\n",
        "\n",
        "vstack() stacks arrays vertically (along axis 0), increasing the number of rows.\n",
        "\n",
        "hstack() stacks arrays horizontally (along axis 1), increasing the number of columns.\n",
        "Both functions require that the dimensions of the arrays be compatible along the non-stacking axis."
      ],
      "metadata": {
        "id": "R859YVpLvjOG"
      }
    },
    {
      "cell_type": "code",
      "source": [
        "#Q8 -  Explain the differences between fliplr() and flipud() methods in NumPy, including their effects on various array dimensions."
      ],
      "metadata": {
        "id": "8e-9VRFUvigO"
      },
      "execution_count": 18,
      "outputs": []
    },
    {
      "cell_type": "markdown",
      "source": [
        "\n",
        "In NumPy, fliplr() and flipud() are functions used to flip arrays in specific directions:\n",
        "\n",
        "1. fliplr()\n",
        "Functionality: Flips the array left to right (horizontally). This means that the columns of the array are reversed.\n",
        "Effect on Dimensions:\n",
        "It operates along the second axis (axis 1), meaning it affects the columns.\n",
        "The number of rows remains unchanged\n",
        "2. flipud()\n",
        "Functionality: Flips the array up to down (vertically). This means that the rows of the array are reversed.\n",
        "Effect on Dimensions:\n",
        "It operates along the first axis (axis 0), affecting the rows.\n",
        "The number of columns remains unchanged.\n",
        "\n",
        "Summary of Differences:\n",
        "fliplr():\n",
        "Flips the array horizontally (left to right).\n",
        "Affects columns (axis 1), leaving the number of rows unchanged.\n",
        "flipud():\n",
        "Flips the array vertically (up to down).\n",
        "Affects rows (axis 0), leaving the number of columns unchanged."
      ],
      "metadata": {
        "id": "PAk8hQLFvx7j"
      }
    },
    {
      "cell_type": "markdown",
      "source": [
        "Effects on Various Array Dimensions:"
      ],
      "metadata": {
        "id": "YUKtLWj9wBpU"
      }
    },
    {
      "cell_type": "markdown",
      "source": [
        "2D Arrays:\n",
        "\n",
        "fliplr() affects the order of columns, while flipud() affects the order of rows, as shown in the examples above.\n",
        "3D Arrays:\n",
        "\n",
        "fliplr() operates on the last dimension (width), and flipud() operates on the first dimension (height). For example, if you have a 3D array (like an image), fliplr() will flip each slice left to right, and flipud() will flip the entire depth of slices up and down."
      ],
      "metadata": {
        "id": "8cT1v3tGwPgD"
      }
    },
    {
      "cell_type": "code",
      "source": [
        "#example with 3d array\n",
        "\n",
        "arr_3d = np.array([[[1, 2, 3],\n",
        "                    [4, 5, 6]],\n",
        "\n",
        "                   [[7, 8, 9],\n",
        "                    [10, 11, 12]]])\n",
        "\n",
        "flipped_lr_3d = np.fliplr(arr_3d)\n",
        "flipped_ud_3d = np.flipud(arr_3d)\n",
        "\n",
        "print(\"Original 3D Array:\")\n",
        "print(arr_3d)\n",
        "\n",
        "print(\"\\nFlipped Left to Right:\")\n",
        "print(flipped_lr_3d)\n",
        "\n",
        "print(\"\\nFlipped Up to Down:\")\n",
        "print(flipped_ud_3d)\n"
      ],
      "metadata": {
        "colab": {
          "base_uri": "https://localhost:8080/"
        },
        "id": "9-XxK2Ttvxc8",
        "outputId": "67f57589-7565-42d9-d1df-672e230fe8db"
      },
      "execution_count": 20,
      "outputs": [
        {
          "output_type": "stream",
          "name": "stdout",
          "text": [
            "Original 3D Array:\n",
            "[[[ 1  2  3]\n",
            "  [ 4  5  6]]\n",
            "\n",
            " [[ 7  8  9]\n",
            "  [10 11 12]]]\n",
            "\n",
            "Flipped Left to Right:\n",
            "[[[ 4  5  6]\n",
            "  [ 1  2  3]]\n",
            "\n",
            " [[10 11 12]\n",
            "  [ 7  8  9]]]\n",
            "\n",
            "Flipped Up to Down:\n",
            "[[[ 7  8  9]\n",
            "  [10 11 12]]\n",
            "\n",
            " [[ 1  2  3]\n",
            "  [ 4  5  6]]]\n"
          ]
        }
      ]
    },
    {
      "cell_type": "code",
      "source": [
        "#Q9 - Discuss the functionality of the array_split() method in NumPy. How does it handle uneven splits?"
      ],
      "metadata": {
        "id": "CyqDGOC0wUvl"
      },
      "execution_count": 21,
      "outputs": []
    },
    {
      "cell_type": "markdown",
      "source": [
        "The array_split() method in NumPy is used to split an array into multiple sub-arrays. It is particularly useful when you need to partition an array into a specified number of smaller arrays. Here's a detailed overview of its functionality and how it handles uneven splits:\n",
        "\n",
        "Functionality of array_split()\n",
        "Basic Syntax:\n",
        "{[\n",
        "numpy.array_split(ary, indices_or_sections, axis=0)}]\n",
        "ary: The input array to be split.\n",
        "indices_or_sections: This can be an integer (specifying the number of equal sections) or a sequence of indices (indicating where to split the array).\n",
        "axis: The axis along which to split the array. The default is 0 (the first axis).\n",
        "Return Value: The method returns a list of sub-arrays. The number of sub-arrays returned depends on the specified indices_or_sections.\n",
        "\n",
        "Handling Uneven Splits\n",
        "When you specify the number of sections to split an array, array_split() can handle cases where the array size is not perfectly divisible by the number of sections. Here's how it works:\n",
        "\n",
        "If the number of elements in the array is not evenly divisible by the number of sections, array_split() will distribute the elements as evenly as possible across the resulting sub-arrays.\n",
        "The first few sub-arrays may contain one more element than the others."
      ],
      "metadata": {
        "id": "VHq66B87wkE8"
      }
    },
    {
      "cell_type": "code",
      "source": [
        "#example\n",
        "import numpy as np\n",
        "\n",
        "# Create an array of 10 elements\n",
        "array = np.arange(10)\n",
        "\n",
        "# Split the array into 3 sections\n",
        "result = np.array_split(array, 3)\n",
        "\n",
        "print(result)\n"
      ],
      "metadata": {
        "colab": {
          "base_uri": "https://localhost:8080/"
        },
        "id": "j45COoV6wa91",
        "outputId": "ec64a815-6b63-447c-fed1-841b4d839bd3"
      },
      "execution_count": 22,
      "outputs": [
        {
          "output_type": "stream",
          "name": "stdout",
          "text": [
            "[array([0, 1, 2, 3]), array([4, 5, 6]), array([7, 8, 9])]\n"
          ]
        }
      ]
    },
    {
      "cell_type": "code",
      "source": [
        "#Q10 -  Explain the concepts of vectorization and broadcasting in NumPy. How do they contribute to efficient array operations?"
      ],
      "metadata": {
        "id": "lBTR5_bIwv4Z"
      },
      "execution_count": null,
      "outputs": []
    },
    {
      "cell_type": "markdown",
      "source": [
        "Vectorization and broadcasting are two powerful concepts in NumPy that significantly enhance the efficiency of array operations. Here's a breakdown of each concept and how they contribute to performance:\n",
        "\n",
        "Vectorization\n",
        "Vectorization refers to the ability to perform operations on entire arrays instead of using explicit loops. This takes advantage of NumPy’s optimized C and Fortran libraries under the hood, allowing for faster computations.\n",
        "\n",
        "Benefits:\n",
        "Speed: Operations on whole arrays are typically much faster than processing elements one by one using Python loops.\n",
        "Simplicity: Vectorized code is often more concise and easier to read, leading to fewer chances for bugs."
      ],
      "metadata": {
        "id": "vRfc-UAyw1Vh"
      }
    },
    {
      "cell_type": "code",
      "source": [
        "#example\n",
        "import numpy as np\n",
        "\n",
        "# Create two arrays\n",
        "a = np.array([1, 2, 3])\n",
        "b = np.array([4, 5, 6])\n",
        "\n",
        "# Vectorized addition\n",
        "c = a + b  # Result: array([5, 7, 9])\n"
      ],
      "metadata": {
        "id": "umTLnSzyw8cS"
      },
      "execution_count": 23,
      "outputs": []
    },
    {
      "cell_type": "markdown",
      "source": [
        "Broadcasting\n",
        "Broadcasting is a technique that allows NumPy to perform arithmetic operations on arrays of different shapes. It extends the smaller array across the larger array so that they have compatible dimensions for element-wise operations.\n",
        "\n",
        "Rules for Broadcasting:\n",
        "If the arrays have different numbers of dimensions, the smaller-dimensional array is padded with ones on the left until both shapes are the same.\n",
        "Two dimensions are compatible when:\n",
        "They are equal, or\n",
        "One of them is 1 (which means it can be stretched to match the other dimension).\n",
        "Benefits:\n",
        "Flexibility: It allows for operations on arrays of different shapes without the need for manual reshaping.\n",
        "Efficiency: By avoiding the creation of copies or large intermediate arrays, broadcasting minimizes memory usage and speeds up operations."
      ],
      "metadata": {
        "id": "vO1HHubnw-iz"
      }
    },
    {
      "cell_type": "code",
      "source": [
        "#Example:\n",
        "import numpy as np\n",
        "\n",
        "# Create an array and a scalar\n",
        "a = np.array([[1, 2, 3],\n",
        "              [4, 5, 6]])\n",
        "b = 2\n",
        "\n",
        "# Broadcasting scalar addition\n",
        "c = a + b  # Result: array([[3, 4, 5],\n",
        "                 #                [6, 7, 8]])"
      ],
      "metadata": {
        "id": "OpKNNjPQxBSq"
      },
      "execution_count": 25,
      "outputs": []
    },
    {
      "cell_type": "markdown",
      "source": [
        "Contribution to Efficient Array Operations\n",
        "Performance: Both vectorization and broadcasting leverage low-level optimizations, resulting in significantly faster computations compared to traditional loops.\n",
        "Memory Management: Broadcasting helps reduce memory overhead by avoiding the creation of large, temporary arrays.\n",
        "Cleaner Code: These techniques enable more readable and maintainable code, allowing developers to express complex operations in fewer lines."
      ],
      "metadata": {
        "id": "Z5hUcyRrxJHy"
      }
    },
    {
      "cell_type": "code",
      "source": [],
      "metadata": {
        "id": "01M1DWsxw96z"
      },
      "execution_count": null,
      "outputs": []
    },
    {
      "cell_type": "code",
      "source": [],
      "metadata": {
        "id": "5Mut9-phxMAM"
      },
      "execution_count": null,
      "outputs": []
    },
    {
      "cell_type": "markdown",
      "source": [
        "# Practical Questions:\n"
      ],
      "metadata": {
        "id": "CC_SAgUcxMgv"
      }
    },
    {
      "cell_type": "code",
      "source": [
        "#Q1 - Create a 3x3 NumPy array with random integers between 1 and 100. Then, interchange its rows and columns"
      ],
      "metadata": {
        "id": "u1SKmbMcxUVH"
      },
      "execution_count": 26,
      "outputs": []
    },
    {
      "cell_type": "code",
      "source": [
        "import numpy as np\n",
        "\n",
        "# Create a 3x3 NumPy array with random integers between 1 and 100\n",
        "array = np.random.randint(1, 101, size=(3, 3))\n",
        "\n",
        "# Interchange its rows and columns (transpose)\n",
        "transposed_array = np.transpose(array)\n",
        "\n",
        "array, transposed_array\n"
      ],
      "metadata": {
        "colab": {
          "base_uri": "https://localhost:8080/"
        },
        "id": "33Zyhu4kxaTf",
        "outputId": "debcea04-7bd4-46d7-e7a7-569d66452513"
      },
      "execution_count": 27,
      "outputs": [
        {
          "output_type": "execute_result",
          "data": {
            "text/plain": [
              "(array([[86, 43, 55],\n",
              "        [76, 42, 51],\n",
              "        [49, 56, 38]]),\n",
              " array([[86, 76, 49],\n",
              "        [43, 42, 56],\n",
              "        [55, 51, 38]]))"
            ]
          },
          "metadata": {},
          "execution_count": 27
        }
      ]
    },
    {
      "cell_type": "code",
      "source": [
        "#Q2 -  Generate a 1D NumPy array with 10 elements. Reshape it into a 2x5 array, then into a 5x2 array."
      ],
      "metadata": {
        "id": "vcAHZy3ex2Zc"
      },
      "execution_count": null,
      "outputs": []
    },
    {
      "cell_type": "code",
      "source": [
        "# Generate a 1D NumPy array with 10 elements\n",
        "array_1d = np.arange(10)\n",
        "\n",
        "# Reshape it into a 2x5 array\n",
        "array_2x5 = array_1d.reshape(2, 5)\n",
        "\n",
        "# Reshape it into a 5x2 array\n",
        "array_5x2 = array_1d.reshape(5, 2)\n",
        "\n",
        "array_1d, array_2x5, array_5x2\n"
      ],
      "metadata": {
        "colab": {
          "base_uri": "https://localhost:8080/"
        },
        "id": "2OV_YJBFyGC8",
        "outputId": "81b0a91c-9627-4c99-d932-e5d7983dce0e"
      },
      "execution_count": 28,
      "outputs": [
        {
          "output_type": "execute_result",
          "data": {
            "text/plain": [
              "(array([0, 1, 2, 3, 4, 5, 6, 7, 8, 9]),\n",
              " array([[0, 1, 2, 3, 4],\n",
              "        [5, 6, 7, 8, 9]]),\n",
              " array([[0, 1],\n",
              "        [2, 3],\n",
              "        [4, 5],\n",
              "        [6, 7],\n",
              "        [8, 9]]))"
            ]
          },
          "metadata": {},
          "execution_count": 28
        }
      ]
    },
    {
      "cell_type": "code",
      "source": [
        "#Q3 - Create a 4x4 NumPy array with random float values. Add a border of zeros around it, resulting in a 6x6 array."
      ],
      "metadata": {
        "id": "xnEgGUkvyK8r"
      },
      "execution_count": 29,
      "outputs": []
    },
    {
      "cell_type": "code",
      "source": [
        "# Create a 4x4 NumPy array with random float values\n",
        "array_4x4 = np.random.rand(4, 4)\n",
        "\n",
        "# Add a border of zeros around it to make it a 6x6 array\n",
        "array_6x6 = np.pad(array_4x4, pad_width=1, mode='constant', constant_values=0)\n",
        "\n",
        "array_4x4, array_6x6\n"
      ],
      "metadata": {
        "colab": {
          "base_uri": "https://localhost:8080/"
        },
        "id": "S1sz5FuPyiO2",
        "outputId": "fb9d2edb-03ed-4b21-f853-d947bb64c6bf"
      },
      "execution_count": 30,
      "outputs": [
        {
          "output_type": "execute_result",
          "data": {
            "text/plain": [
              "(array([[0.41892913, 0.12792576, 0.33790262, 0.51737579],\n",
              "        [0.43797034, 0.34088186, 0.98771711, 0.58863888],\n",
              "        [0.71597128, 0.16189615, 0.06729098, 0.66204436],\n",
              "        [0.36832423, 0.73839861, 0.33078186, 0.52033992]]),\n",
              " array([[0.        , 0.        , 0.        , 0.        , 0.        ,\n",
              "         0.        ],\n",
              "        [0.        , 0.41892913, 0.12792576, 0.33790262, 0.51737579,\n",
              "         0.        ],\n",
              "        [0.        , 0.43797034, 0.34088186, 0.98771711, 0.58863888,\n",
              "         0.        ],\n",
              "        [0.        , 0.71597128, 0.16189615, 0.06729098, 0.66204436,\n",
              "         0.        ],\n",
              "        [0.        , 0.36832423, 0.73839861, 0.33078186, 0.52033992,\n",
              "         0.        ],\n",
              "        [0.        , 0.        , 0.        , 0.        , 0.        ,\n",
              "         0.        ]]))"
            ]
          },
          "metadata": {},
          "execution_count": 30
        }
      ]
    },
    {
      "cell_type": "code",
      "source": [
        "#Q4 - Using NumPy, create an array of integers from 10 to 60 with a step of 5"
      ],
      "metadata": {
        "id": "6LTWHk5Byj59"
      },
      "execution_count": null,
      "outputs": []
    },
    {
      "cell_type": "code",
      "source": [
        "# Create an array of integers from 10 to 60 with a step of 5 using NumPy\n",
        "array_step = np.arange(10, 61, 5)\n",
        "\n",
        "array_step\n"
      ],
      "metadata": {
        "colab": {
          "base_uri": "https://localhost:8080/"
        },
        "id": "MWSUJECOyj1b",
        "outputId": "336f5a6f-2974-426f-8a9b-45bdc9472091"
      },
      "execution_count": 31,
      "outputs": [
        {
          "output_type": "execute_result",
          "data": {
            "text/plain": [
              "array([10, 15, 20, 25, 30, 35, 40, 45, 50, 55, 60])"
            ]
          },
          "metadata": {},
          "execution_count": 31
        }
      ]
    },
    {
      "cell_type": "code",
      "source": [
        "#Q5 - Create a NumPy array of strings ['python', 'numpy', 'pandas']. Apply different case transformations (uppercase, lowercase, title case, etc.) to each element."
      ],
      "metadata": {
        "id": "P-Xp288vyjxV"
      },
      "execution_count": 32,
      "outputs": []
    },
    {
      "cell_type": "code",
      "source": [
        "import numpy as np\n",
        "\n",
        "# Creating a NumPy array of strings\n",
        "arr = np.array(['python', 'numpy', 'pandas'])\n",
        "\n",
        "# Applying various case transformations\n",
        "upper_case = np.char.upper(arr)        # Convert to uppercase\n",
        "lower_case = np.char.lower(arr)        # Convert to lowercase\n",
        "title_case = np.char.title(arr)        # Convert to title case\n",
        "capitalize_case = np.char.capitalize(arr)  # Capitalize first letter of each string\n",
        "swapcase = np.char.swapcase(arr)      # Swap case of each string\n",
        "\n",
        "# Displaying the results\n",
        "print(\"Original Array:\", arr)\n",
        "print(\"Uppercase:\", upper_case)\n",
        "print(\"Lowercase:\", lower_case)\n",
        "print(\"Title Case:\", title_case)\n",
        "print(\"Capitalized:\", capitalize_case)\n",
        "print(\"Swapcase:\", swapcase)"
      ],
      "metadata": {
        "colab": {
          "base_uri": "https://localhost:8080/"
        },
        "id": "2_oZA6X_yjrF",
        "outputId": "44d744c7-20ef-47cf-a66c-b8bfc4be1eb0"
      },
      "execution_count": 33,
      "outputs": [
        {
          "output_type": "stream",
          "name": "stdout",
          "text": [
            "Original Array: ['python' 'numpy' 'pandas']\n",
            "Uppercase: ['PYTHON' 'NUMPY' 'PANDAS']\n",
            "Lowercase: ['python' 'numpy' 'pandas']\n",
            "Title Case: ['Python' 'Numpy' 'Pandas']\n",
            "Capitalized: ['Python' 'Numpy' 'Pandas']\n",
            "Swapcase: ['PYTHON' 'NUMPY' 'PANDAS']\n"
          ]
        }
      ]
    },
    {
      "cell_type": "code",
      "source": [
        "#Q6 - Generate a NumPy array of words. Insert a space between each character of every word in the array."
      ],
      "metadata": {
        "id": "iZaRXLTsyjpN"
      },
      "execution_count": 34,
      "outputs": []
    },
    {
      "cell_type": "code",
      "source": [
        "import numpy as np\n",
        "\n",
        "# Step 1: Create a NumPy array of words\n",
        "words = np.array(['hello', 'world', 'numpy', 'array'])\n",
        "\n",
        "# Step 2: Insert a space between each character of every word\n",
        "spaced_words = np.char.join(' ', words)\n",
        "\n",
        "# Display the results\n",
        "print(\"Original Array:\", words)\n",
        "print(\"Array with spaces:\", spaced_words)"
      ],
      "metadata": {
        "colab": {
          "base_uri": "https://localhost:8080/"
        },
        "id": "h_ywDP9Jyjh9",
        "outputId": "5a69bdd9-43f8-4abc-8b23-180a4646c4d3"
      },
      "execution_count": 35,
      "outputs": [
        {
          "output_type": "stream",
          "name": "stdout",
          "text": [
            "Original Array: ['hello' 'world' 'numpy' 'array']\n",
            "Array with spaces: ['h e l l o' 'w o r l d' 'n u m p y' 'a r r a y']\n"
          ]
        }
      ]
    },
    {
      "cell_type": "code",
      "source": [
        "#Q7 -  Create two 2D NumPy arrays and perform element-wise addition, subtraction, multiplication, and division"
      ],
      "metadata": {
        "id": "_KyyIQm4yjZd"
      },
      "execution_count": 36,
      "outputs": []
    },
    {
      "cell_type": "code",
      "source": [
        "import numpy as np\n",
        "\n",
        "# Step 1: Create two 2D NumPy arrays\n",
        "array1 = np.array([[1, 2, 3], [4, 5, 6]])\n",
        "array2 = np.array([[7, 8, 9], [10, 11, 12]])\n",
        "\n",
        "# Step 2: Perform element-wise addition\n",
        "addition_result = array1 + array2\n",
        "print(\"Element-wise Addition:\\n\", addition_result)\n",
        "\n",
        "# Step 3: Perform element-wise subtraction\n",
        "subtraction_result = array1 - array2\n",
        "print(\"Element-wise Subtraction:\\n\", subtraction_result)\n",
        "\n",
        "# Step 4: Perform element-wise multiplication\n",
        "multiplication_result = array1 * array2\n",
        "print(\"Element-wise Multiplication:\\n\", multiplication_result)\n",
        "\n",
        "# Step 5: Perform element-wise division\n",
        "division_result = array1 / array2\n",
        "print(\"Element-wise Division:\\n\", division_result)"
      ],
      "metadata": {
        "colab": {
          "base_uri": "https://localhost:8080/"
        },
        "id": "jiJTcgby0lqS",
        "outputId": "f759519b-2ad8-43ab-906e-2f1f5f4bd7cc"
      },
      "execution_count": 37,
      "outputs": [
        {
          "output_type": "stream",
          "name": "stdout",
          "text": [
            "Element-wise Addition:\n",
            " [[ 8 10 12]\n",
            " [14 16 18]]\n",
            "Element-wise Subtraction:\n",
            " [[-6 -6 -6]\n",
            " [-6 -6 -6]]\n",
            "Element-wise Multiplication:\n",
            " [[ 7 16 27]\n",
            " [40 55 72]]\n",
            "Element-wise Division:\n",
            " [[0.14285714 0.25       0.33333333]\n",
            " [0.4        0.45454545 0.5       ]]\n"
          ]
        }
      ]
    },
    {
      "cell_type": "code",
      "source": [
        "#Q8 - Use NumPy to create a 5x5 identity matrix, then extract its diagonal elements."
      ],
      "metadata": {
        "id": "bIArBx1L0loY"
      },
      "execution_count": null,
      "outputs": []
    },
    {
      "cell_type": "code",
      "source": [
        "import numpy as np\n",
        "\n",
        "# Step 1: Create a 5x5 identity matrix\n",
        "identity_matrix = np.eye(5)\n",
        "\n",
        "# Step 2: Extract the diagonal elements\n",
        "diagonal_elements = np.diag(identity_matrix)\n",
        "\n",
        "# Display the results\n",
        "print(\"Identity Matrix:\\n\", identity_matrix)\n",
        "print(\"Diagonal Elements:\", diagonal_elements)"
      ],
      "metadata": {
        "colab": {
          "base_uri": "https://localhost:8080/"
        },
        "id": "LzjFFqRW0lmm",
        "outputId": "e7944747-5277-4432-dc5a-fc4cabf7084e"
      },
      "execution_count": 38,
      "outputs": [
        {
          "output_type": "stream",
          "name": "stdout",
          "text": [
            "Identity Matrix:\n",
            " [[1. 0. 0. 0. 0.]\n",
            " [0. 1. 0. 0. 0.]\n",
            " [0. 0. 1. 0. 0.]\n",
            " [0. 0. 0. 1. 0.]\n",
            " [0. 0. 0. 0. 1.]]\n",
            "Diagonal Elements: [1. 1. 1. 1. 1.]\n"
          ]
        }
      ]
    },
    {
      "cell_type": "code",
      "source": [
        "#Q9 -  Generate a NumPy array of 100 random integers between 0 and 1000. Find and display all prime numbers in this array."
      ],
      "metadata": {
        "id": "F5N56wQg0lk3"
      },
      "execution_count": 39,
      "outputs": []
    },
    {
      "cell_type": "code",
      "source": [
        "import numpy as np\n",
        "\n",
        "# Step 1: Generate a NumPy array of 100 random integers between 0 and 1000\n",
        "random_integers = np.random.randint(0, 1001, size=100)\n",
        "\n",
        "# Step 2: Define a function to check if a number is prime\n",
        "def is_prime(n):\n",
        "    if n < 2:\n",
        "        return False\n",
        "    for i in range(2, int(n**0.5) + 1):\n",
        "        if n % i == 0:\n",
        "            return False\n",
        "    return True\n",
        "\n",
        "# Step 3: Find all prime numbers in the array\n",
        "prime_numbers = [num for num in random_integers if is_prime(num)]\n",
        "\n",
        "# Display the results\n",
        "print(\"Random Integers:\\n\", random_integers)\n",
        "print(\"Prime Numbers:\", prime_numbers)"
      ],
      "metadata": {
        "colab": {
          "base_uri": "https://localhost:8080/"
        },
        "id": "I-t97gqi0liY",
        "outputId": "fe446a01-afc8-4fdb-d2bd-09cc2208f89a"
      },
      "execution_count": 40,
      "outputs": [
        {
          "output_type": "stream",
          "name": "stdout",
          "text": [
            "Random Integers:\n",
            " [263 608 602 940  77 975 553   0 520 921 592 846  29 785 518 130 120  18\n",
            "  64 461 894 256 961 321 815 486 582 222 760 262 421 219 433 935  92 432\n",
            "  87 245 845 975 956 823 317 165 993 474 176 315 341   1 442 996 686 513\n",
            " 572 985 276 941 960 338  23 235 634 947 989  41 686 816 663 586 426 128\n",
            " 952 342 450 506 467 824 381  53  86 436 583 142  72 246 445 905 215 542\n",
            " 579 183 151 646 272 372 555 181 882 575]\n",
            "Prime Numbers: [263, 29, 461, 421, 433, 823, 317, 941, 23, 947, 41, 467, 53, 151, 181]\n"
          ]
        }
      ]
    },
    {
      "cell_type": "code",
      "source": [
        "#Q10 - Create a NumPy array representing daily temperatures for a month. Calculate and display the weekly averages."
      ],
      "metadata": {
        "id": "9qJRb5PP0lgJ"
      },
      "execution_count": 41,
      "outputs": []
    },
    {
      "cell_type": "code",
      "source": [
        "import numpy as np\n",
        "\n",
        "# Step 1: Create a NumPy array representing daily temperatures for a month (30 days)\n",
        "# For demonstration, let's generate random temperatures between -10 and 35 degrees Celsius\n",
        "np.random.seed(0)  # Seed for reproducibility\n",
        "daily_temperatures = np.random.randint(-10, 36, size=30)\n",
        "\n",
        "# Step 2: Reshape the array into weeks (4 full weeks + 2 extra days)\n",
        "# We will create a 5x7 array for convenience, where the last week may have fewer than 7 days\n",
        "weeks = np.zeros((5, 7))  # Initialize with zeros\n",
        "weeks[:4, :7] = daily_temperatures[:28].reshape(4, 7)  # Fill first four weeks\n",
        "weeks[4, :2] = daily_temperatures[28:]  # Fill remaining days into the last week\n",
        "\n",
        "# Step 3: Calculate weekly averages\n",
        "weekly_averages = np.mean(weeks, axis=1)\n",
        "\n",
        "# Display the results\n",
        "print(\"Daily Temperatures for the Month:\\n\", daily_temperatures)\n",
        "print(\"\\nWeekly Averages:\\n\", weekly_averages)"
      ],
      "metadata": {
        "colab": {
          "base_uri": "https://localhost:8080/"
        },
        "id": "UCaEzmwN0ld5",
        "outputId": "c9af396e-c32d-47ad-c088-0d8fea0c7378"
      },
      "execution_count": 42,
      "outputs": [
        {
          "output_type": "stream",
          "name": "stdout",
          "text": [
            "Daily Temperatures for the Month:\n",
            " [ 34 -10  -7  -7  29  -1   9  11  26  13  -4  14  14   2  -9  28  29  13\n",
            "  14   7  27  15   3  -2  -1  10   6  -5   5 -10]\n",
            "\n",
            "Weekly Averages:\n",
            " [ 6.71428571 10.85714286 15.57142857  3.71428571 -0.71428571]\n"
          ]
        }
      ]
    },
    {
      "cell_type": "markdown",
      "source": [],
      "metadata": {
        "id": "0rdDxRJRxJ46"
      }
    }
  ]
}